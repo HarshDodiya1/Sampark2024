{
 "cells": [
  {
   "cell_type": "markdown",
   "metadata": {},
   "source": [
    "# Install all necessary Python Libraries"
   ]
  },
  {
   "cell_type": "code",
   "execution_count": null,
   "metadata": {},
   "outputs": [],
   "source": [
    "!! pip install pandas numpy matplotlib seaborn"
   ]
  },
  {
   "cell_type": "markdown",
   "metadata": {},
   "source": [
    "# Import Python Libraries"
   ]
  },
  {
   "cell_type": "code",
   "execution_count": null,
   "metadata": {},
   "outputs": [],
   "source": [
    "import pandas as pd # For Data Manipulation\n",
    "import numpy as np #  For Numerical Calculations\n",
    "import matplotlib.pyplot as plt # For Data Visualizations\n",
    "import seaborn as sns # For Data Visualizations\n",
    "\n",
    "# To ignore warnings\n",
    "import warnings\n",
    "warnings.filterwarnings('ignore')"
   ]
  },
  {
   "cell_type": "markdown",
   "metadata": {},
   "source": [
    "# Reading Dataset"
   ]
  },
  {
   "cell_type": "code",
   "execution_count": 13,
   "metadata": {},
   "outputs": [],
   "source": [
    "data = pd.read_csv(r\"C:\\Users\\Admin\\Desktop\\Sampark_2024_Project\\dataset\\Extra_Time_Parked.csv\")"
   ]
  },
  {
   "cell_type": "markdown",
   "metadata": {},
   "source": [
    "# Analyzing the Data"
   ]
  },
  {
   "cell_type": "code",
   "execution_count": 14,
   "metadata": {},
   "outputs": [
    {
     "data": {
      "text/html": [
       "<div>\n",
       "<style scoped>\n",
       "    .dataframe tbody tr th:only-of-type {\n",
       "        vertical-align: middle;\n",
       "    }\n",
       "\n",
       "    .dataframe tbody tr th {\n",
       "        vertical-align: top;\n",
       "    }\n",
       "\n",
       "    .dataframe thead th {\n",
       "        text-align: right;\n",
       "    }\n",
       "</style>\n",
       "<table border=\"1\" class=\"dataframe\">\n",
       "  <thead>\n",
       "    <tr style=\"text-align: right;\">\n",
       "      <th></th>\n",
       "      <th>Start Date</th>\n",
       "      <th>End Date</th>\n",
       "      <th>Total Duration</th>\n",
       "      <th>Charging Time</th>\n",
       "    </tr>\n",
       "  </thead>\n",
       "  <tbody>\n",
       "    <tr>\n",
       "      <th>0</th>\n",
       "      <td>7-29-2011 20:17</td>\n",
       "      <td>7-29-2011 23:20</td>\n",
       "      <td>03:03:32</td>\n",
       "      <td>01:54:03</td>\n",
       "    </tr>\n",
       "    <tr>\n",
       "      <th>1</th>\n",
       "      <td>7-30-2011 0:00</td>\n",
       "      <td>7-30-2011 0:02</td>\n",
       "      <td>00:02:06</td>\n",
       "      <td>00:01:54</td>\n",
       "    </tr>\n",
       "    <tr>\n",
       "      <th>2</th>\n",
       "      <td>7-30-2011 8:16</td>\n",
       "      <td>7-30-2011 12:34</td>\n",
       "      <td>04:17:32</td>\n",
       "      <td>04:17:28</td>\n",
       "    </tr>\n",
       "    <tr>\n",
       "      <th>3</th>\n",
       "      <td>7-30-2011 14:51</td>\n",
       "      <td>7-30-2011 16:55</td>\n",
       "      <td>02:03:24</td>\n",
       "      <td>02:02:58</td>\n",
       "    </tr>\n",
       "    <tr>\n",
       "      <th>4</th>\n",
       "      <td>7-30-2011 18:51</td>\n",
       "      <td>7-30-2011 20:03</td>\n",
       "      <td>01:11:24</td>\n",
       "      <td>00:43:54</td>\n",
       "    </tr>\n",
       "  </tbody>\n",
       "</table>\n",
       "</div>"
      ],
      "text/plain": [
       "        Start Date         End Date Total Duration Charging Time\n",
       "0  7-29-2011 20:17  7-29-2011 23:20       03:03:32      01:54:03\n",
       "1   7-30-2011 0:00   7-30-2011 0:02       00:02:06      00:01:54\n",
       "2   7-30-2011 8:16  7-30-2011 12:34       04:17:32      04:17:28\n",
       "3  7-30-2011 14:51  7-30-2011 16:55       02:03:24      02:02:58\n",
       "4  7-30-2011 18:51  7-30-2011 20:03       01:11:24      00:43:54"
      ]
     },
     "execution_count": 14,
     "metadata": {},
     "output_type": "execute_result"
    }
   ],
   "source": [
    "data.head() # To display the top 5 observations of the dataset."
   ]
  },
  {
   "cell_type": "code",
   "execution_count": 15,
   "metadata": {},
   "outputs": [
    {
     "name": "stdout",
     "output_type": "stream",
     "text": [
      "<class 'pandas.core.frame.DataFrame'>\n",
      "RangeIndex: 259415 entries, 0 to 259414\n",
      "Data columns (total 4 columns):\n",
      " #   Column          Non-Null Count   Dtype \n",
      "---  ------          --------------   ----- \n",
      " 0   Start Date      259415 non-null  object\n",
      " 1   End Date        259415 non-null  object\n",
      " 2   Total Duration  259415 non-null  object\n",
      " 3   Charging Time   259415 non-null  object\n",
      "dtypes: object(4)\n",
      "memory usage: 7.9+ MB\n"
     ]
    }
   ],
   "source": [
    "data.info() # Helps to understand the data type and information about data."
   ]
  },
  {
   "cell_type": "code",
   "execution_count": 16,
   "metadata": {},
   "outputs": [
    {
     "data": {
      "text/plain": [
       "Start Date        244798\n",
       "End Date          244159\n",
       "Total Duration     31025\n",
       "Charging Time      22473\n",
       "dtype: int64"
      ]
     },
     "execution_count": 16,
     "metadata": {},
     "output_type": "execute_result"
    }
   ],
   "source": [
    "data.nunique() # Gives several unique values in each column and the data description"
   ]
  },
  {
   "cell_type": "code",
   "execution_count": 17,
   "metadata": {},
   "outputs": [
    {
     "data": {
      "text/plain": [
       "Start Date        0\n",
       "End Date          0\n",
       "Total Duration    0\n",
       "Charging Time     0\n",
       "dtype: int64"
      ]
     },
     "execution_count": 17,
     "metadata": {},
     "output_type": "execute_result"
    }
   ],
   "source": [
    "data.isnull().sum() # To identify null values in the data"
   ]
  },
  {
   "cell_type": "code",
   "execution_count": 18,
   "metadata": {},
   "outputs": [
    {
     "data": {
      "text/plain": [
       "Start Date        0.0\n",
       "End Date          0.0\n",
       "Total Duration    0.0\n",
       "Charging Time     0.0\n",
       "dtype: float64"
      ]
     },
     "execution_count": 18,
     "metadata": {},
     "output_type": "execute_result"
    }
   ],
   "source": [
    "(data.isnull().sum()/(len(data)))*100 # To calculate the percentage of missing values in each column"
   ]
  },
  {
   "cell_type": "code",
   "execution_count": 20,
   "metadata": {},
   "outputs": [
    {
     "name": "stdout",
     "output_type": "stream",
     "text": [
      "                Start Date          End Date  Total Duration   Charging Time  \\\n",
      "0      2011-07-29 20:17:00   7-29-2011 23:20 0 days 03:03:32 0 days 01:54:03   \n",
      "1      2011-07-30 00:00:00    7-30-2011 0:02 0 days 00:02:06 0 days 00:01:54   \n",
      "2      2011-07-30 08:16:00   7-30-2011 12:34 0 days 04:17:32 0 days 04:17:28   \n",
      "3      2011-07-30 14:51:00   7-30-2011 16:55 0 days 02:03:24 0 days 02:02:58   \n",
      "4      2011-07-30 18:51:00   7-30-2011 20:03 0 days 01:11:24 0 days 00:43:54   \n",
      "...                    ...               ...             ...             ...   \n",
      "259410 2020-12-31 16:39:00  12-31-2020 17:14 0 days 00:35:44 0 days 00:35:18   \n",
      "259411 2020-12-31 16:48:00  12-31-2020 20:31 0 days 03:43:01 0 days 02:14:04   \n",
      "259412 2020-12-31 17:28:00  01-01-2021 10:56 0 days 17:28:14 0 days 05:08:12   \n",
      "259413 2020-12-31 17:49:00  12-31-2020 21:55 0 days 04:05:34 0 days 03:53:42   \n",
      "259414 2020-12-31 18:19:00  12-31-2020 19:01 0 days 00:42:07 0 days 00:41:44   \n",
      "\n",
      "       Extra Time    Expected End Time  \n",
      "0        01:09:29  29/07/2011 22:11 PM  \n",
      "1        00:00:12  30/07/2011 00:01 AM  \n",
      "2        00:00:04  30/07/2011 12:33 PM  \n",
      "3        00:00:26  30/07/2011 16:53 PM  \n",
      "4        00:27:30  30/07/2011 19:34 PM  \n",
      "...           ...                  ...  \n",
      "259410   00:00:26  31/12/2020 17:14 PM  \n",
      "259411   01:28:57  31/12/2020 19:02 PM  \n",
      "259412   12:20:02  31/12/2020 22:36 PM  \n",
      "259413   00:11:52  31/12/2020 21:42 PM  \n",
      "259414   00:00:23  31/12/2020 19:00 PM  \n",
      "\n",
      "[259415 rows x 6 columns]\n",
      "New CSV file created at: C:\\Users\\Admin\\Desktop\\Sampark_2024_Project\\dataset\\Updated_Extra_Time_Parked.csv\n"
     ]
    }
   ],
   "source": [
    "import pandas as pd\n",
    "from datetime import timedelta\n",
    "\n",
    "# Function to convert time in hh:mm:ss format to timedelta\n",
    "def time_str_to_timedelta(time_str):\n",
    "    h, m, s = map(int, time_str.split(':'))\n",
    "    return timedelta(hours=h, minutes=m, seconds=s)\n",
    "\n",
    "# Function to format timedelta in hh:mm:ss format\n",
    "def format_timedelta(delta):\n",
    "    hours, remainder = divmod(delta.seconds, 3600)\n",
    "    minutes, seconds = divmod(remainder, 60)\n",
    "    return \"{:02}:{:02}:{:02}\".format(hours, minutes, seconds)\n",
    "\n",
    "# Load the CSV data into a pandas DataFrame\n",
    "path = r\"C:\\Users\\Admin\\Desktop\\Sampark_2024_Project\\dataset\\Extra_Time_Parked.csv\"\n",
    "df = pd.read_csv(path, parse_dates=[\"Start Date\", \"End Date\"], infer_datetime_format=True)\n",
    "\n",
    "# Calculate Extra Time and Expected End Time for each row\n",
    "df[\"Charging Time\"] = df[\"Charging Time\"].apply(time_str_to_timedelta)\n",
    "df[\"Total Duration\"] = df[\"Total Duration\"].apply(time_str_to_timedelta)\n",
    "\n",
    "# Convert \"Start Date\" to datetime explicitly\n",
    "df[\"Start Date\"] = pd.to_datetime(df[\"Start Date\"])\n",
    "\n",
    "df[\"Extra Time\"] = df[\"Total Duration\"] - df[\"Charging Time\"]\n",
    "df[\"Expected End Time\"] = df[\"Start Date\"] + df[\"Charging Time\"]\n",
    "\n",
    "# Format results\n",
    "df[\"Extra Time\"] = df[\"Extra Time\"].apply(format_timedelta)\n",
    "df[\"Expected End Time\"] = df[\"Expected End Time\"].dt.strftime(\"%d/%m/%Y %H:%M %p\")  # Updated line\n",
    "\n",
    "# Display the updated DataFrame\n",
    "print(df)\n",
    "\n",
    "# Save the DataFrame to a new CSV file\n",
    "new_csv_path = r\"C:\\Users\\Admin\\Desktop\\Sampark_2024_Project\\dataset\\Updated_Extra_Time_Parked.csv\"\n",
    "df.to_csv(new_csv_path, index=False)\n",
    "\n",
    "print(f\"New CSV file created at: {new_csv_path}\")\n"
   ]
  }
 ],
 "metadata": {
  "kernelspec": {
   "display_name": "sampark2024",
   "language": "python",
   "name": "python3"
  },
  "language_info": {
   "codemirror_mode": {
    "name": "ipython",
    "version": 3
   },
   "file_extension": ".py",
   "mimetype": "text/x-python",
   "name": "python",
   "nbconvert_exporter": "python",
   "pygments_lexer": "ipython3",
   "version": "3.11.4"
  }
 },
 "nbformat": 4,
 "nbformat_minor": 2
}
