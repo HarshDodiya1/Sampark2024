{
 "cells": [
  {
   "cell_type": "code",
   "execution_count": 1,
   "metadata": {},
   "outputs": [],
   "source": [
    "import numpy as np\n",
    "import pandas as pd\n",
    "import matplotlib.pyplot as plt\n"
   ]
  },
  {
   "cell_type": "code",
   "execution_count": 2,
   "metadata": {},
   "outputs": [
    {
     "name": "stderr",
     "output_type": "stream",
     "text": [
      "C:\\Users\\Asus\\AppData\\Local\\Temp\\ipykernel_6468\\1648277472.py:1: DtypeWarning: Columns (29,30,32) have mixed types. Specify dtype option on import or set low_memory=False.\n",
      "  ev = pd.read_csv(\"EVChargingStationUsage.csv\")\n"
     ]
    }
   ],
   "source": [
    "ev = pd.read_csv(\"EVChargingStationUsage.csv\")\n",
    "low_memory = False"
   ]
  },
  {
   "cell_type": "code",
   "execution_count": 4,
   "metadata": {},
   "outputs": [
    {
     "data": {
      "text/plain": [
       "Station Name                        0.000000\n",
       "MAC Address                         0.000000\n",
       "Org Name                            0.000000\n",
       "Start Date                          0.000000\n",
       "Start Time Zone                     0.000000\n",
       "End Date                            0.000000\n",
       "End Time Zone                       0.000000\n",
       "Transaction Date (Pacific Time)     0.080566\n",
       "Total Duration (hh:mm:ss)           0.000000\n",
       "Charging Time (hh:mm:ss)            0.000000\n",
       "Energy (kWh)                        0.000000\n",
       "GHG Savings (kg)                    0.000000\n",
       "Gasoline Savings (gallons)          0.000000\n",
       "Port Type                           0.003469\n",
       "Port Number                         0.000000\n",
       "Plug Type                           0.000000\n",
       "EVSE ID                            30.433090\n",
       "Address 1                           0.000000\n",
       "City                                0.000000\n",
       "State/Province                      0.000000\n",
       "Postal Code                         0.000000\n",
       "Country                             0.000000\n",
       "Latitude                            0.000000\n",
       "Longitude                           0.000000\n",
       "Currency                            0.689243\n",
       "Fee                                 0.000000\n",
       "Ended By                            0.095600\n",
       "Plug In Event Id                    0.000000\n",
       "Driver Postal Code                  3.238826\n",
       "User ID                             2.959351\n",
       "County                             32.636895\n",
       "System S/N                         30.433090\n",
       "Model Number                       30.433090\n",
       "dtype: float64"
      ]
     },
     "execution_count": 4,
     "metadata": {},
     "output_type": "execute_result"
    }
   ],
   "source": [
    "(ev.isnull().sum()/(len(ev)))*100"
   ]
  },
  {
   "cell_type": "code",
   "execution_count": 5,
   "metadata": {},
   "outputs": [
    {
     "data": {
      "text/plain": [
       "0         1:54:03\n",
       "1         0:01:54\n",
       "2         4:17:28\n",
       "3         2:02:58\n",
       "4         0:43:54\n",
       "           ...   \n",
       "259410    0:35:18\n",
       "259411    2:14:04\n",
       "259412    5:08:12\n",
       "259413    3:53:42\n",
       "259414    0:41:44\n",
       "Name: chargingTime, Length: 259415, dtype: object"
      ]
     },
     "execution_count": 5,
     "metadata": {},
     "output_type": "execute_result"
    }
   ],
   "source": [
    "ev.rename(columns={\"Total Duration (hh:mm:ss)\":'totalDuration'}, inplace=True)\n",
    "ev.rename(columns={\"Charging Time (hh:mm:ss)\":'chargingTime'}, inplace=True)\n",
    "ev['totalDuration']\n",
    "ev['chargingTime']"
   ]
  },
  {
   "cell_type": "code",
   "execution_count": 6,
   "metadata": {},
   "outputs": [],
   "source": [
    "\n",
    "ev['totalDuration'] = pd.to_timedelta(ev['totalDuration'])\n",
    "mask = ev['totalDuration'] >= pd.Timedelta(hours=24)\n",
    "ev.loc[mask, 'totalDuration'] = ev.loc[mask, 'totalDuration'] - pd.Timedelta(days=1)\n",
    "\n",
    "\n",
    "ev['chargingTime'] = pd.to_timedelta(ev['chargingTime'])\n",
    "mask = ev['chargingTime'] >= pd.Timedelta(hours=24)\n",
    "ev.loc[mask, 'chargingTime'] = ev.loc[mask, 'chargingTime'] - pd.Timedelta(days=1)\n",
    "\n",
    "ev['diff'] = ev['totalDuration'] - ev['chargingTime']"
   ]
  },
  {
   "cell_type": "code",
   "execution_count": 7,
   "metadata": {},
   "outputs": [
    {
     "data": {
      "text/plain": [
       "0        0 days 01:09:29\n",
       "1        0 days 00:00:12\n",
       "2        0 days 00:00:04\n",
       "3        0 days 00:00:26\n",
       "4        0 days 00:27:30\n",
       "               ...      \n",
       "259410   0 days 00:00:26\n",
       "259411   0 days 01:28:57\n",
       "259412   0 days 12:20:02\n",
       "259413   0 days 00:11:52\n",
       "259414   0 days 00:00:23\n",
       "Name: diff, Length: 259415, dtype: timedelta64[ns]"
      ]
     },
     "execution_count": 7,
     "metadata": {},
     "output_type": "execute_result"
    }
   ],
   "source": [
    "ev['diff']"
   ]
  },
  {
   "cell_type": "code",
   "execution_count": 8,
   "metadata": {},
   "outputs": [
    {
     "data": {
      "text/plain": [
       "99.96376462425071"
      ]
     },
     "execution_count": 8,
     "metadata": {},
     "output_type": "execute_result"
    }
   ],
   "source": [
    "# shows that how many persons keep their vehicle in parking even after completion of the charging\n",
    "overall_percent = (ev['diff'] > pd.Timedelta(0)).sum()/len(ev)*100\n",
    "overall_percent"
   ]
  },
  {
   "cell_type": "code",
   "execution_count": 8,
   "metadata": {},
   "outputs": [
    {
     "data": {
      "text/plain": [
       "array(['California'], dtype=object)"
      ]
     },
     "execution_count": 8,
     "metadata": {},
     "output_type": "execute_result"
    }
   ],
   "source": [
    "# This shows the area where the dataset belongs\n",
    "ev['State/Province'].unique()"
   ]
  },
  {
   "cell_type": "code",
   "execution_count": 9,
   "metadata": {},
   "outputs": [
    {
     "data": {
      "text/plain": [
       "array(['Level 2', 'Level 1', nan], dtype=object)"
      ]
     },
     "execution_count": 9,
     "metadata": {},
     "output_type": "execute_result"
    }
   ],
   "source": [
    "levels = ev['Port Type'].unique()\n",
    "levels"
   ]
  },
  {
   "cell_type": "code",
   "execution_count": null,
   "metadata": {},
   "outputs": [],
   "source": [
    "# we tried to show the percentage based on port type but this but we coudn't do it on time \n",
    "\n",
    "for value in levels:\n",
    "    # Filter the DataFrame for rows where the column value matches the current unique value\n",
    "    filtered_ev = ev[ev['Port Type'] == 'Level 1']\n",
    "    \n",
    "    # Perform different functions based on the value\n",
    "    if value == 'value1':\n",
    "        # Perform function 1 for value1\n",
    "        print(f\"Function 1 result for {value}: {result}\")\n",
    "    elif value == 'value2':\n",
    "        # Perform function 2 for value2\n",
    "        print(f\"Function 2 result for {value}: {result}\")\n",
    "    else:\n",
    "        # Perform a default function for other values\n",
    "        print(f\"Default function result for {value}: {result}\")"
   ]
  },
  {
   "cell_type": "code",
   "execution_count": 11,
   "metadata": {},
   "outputs": [
    {
     "data": {
      "image/png": "[encoded data removed]",
      "text/plain": [
       "<Figure size 640x480 with 1 Axes>"
      ]
     },
     "metadata": {},
     "output_type": "display_data"
    }
   ],
   "source": [
    "\n",
    "# shows the pie chart for the number of people who dont take their vehicles off parking even after charging \n",
    "data = [99.96, 0.04]\n",
    "plt.pie(data, labels=data)\n",
    "plt.show()"
   ]
  }
 ],
 "metadata": {
  "kernelspec": {
   "display_name": "pyproject",
   "language": "python",
   "name": "python3"
  },
  "language_info": {
   "codemirror_mode": {
    "name": "ipython",
    "version": 3
   },
   "file_extension": ".py",
   "mimetype": "text/x-python",
   "name": "python",
   "nbconvert_exporter": "python",
   "pygments_lexer": "ipython3",
   "version": "3.11.4"
  }
 },
 "nbformat": 4,
 "nbformat_minor": 2
}
